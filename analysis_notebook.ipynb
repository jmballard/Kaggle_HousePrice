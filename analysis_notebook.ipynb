{
 "cells": [
  {
   "cell_type": "markdown",
   "metadata": {},
   "source": [
    "# Analysis notebook"
   ]
  },
  {
   "cell_type": "markdown",
   "metadata": {},
   "source": [
    "## Motivations and goals\n",
    "The goal of this project is to predict price of selling a house depending on different features.\n",
    "\n",
    "We selected the following 3 questions:\n",
    "\n",
    "1. Is having a basement having an impact on the price of a house?\n",
    "2. Are the new build cheaper than older houses?\n",
    "3. What are the most important features for our model?\n",
    "\n",
    "Note: the EDA RMarkdown file goes into more details than what we have in the below."
   ]
  },
  {
   "cell_type": "code",
   "execution_count": 124,
   "metadata": {},
   "outputs": [],
   "source": [
    "import pandas as pd \n",
    "import numpy as np\n",
    "import matplotlib.pyplot as plt\n",
    "import pylab \n",
    "import scipy.stats as stats\n",
    "import seaborn as sns\n",
    "from sklearn.impute import KNNImputer\n",
    "\n",
    "from sklearn.preprocessing import OneHotEncoder\n",
    "from sklearn.model_selection import train_test_split, GridSearchCV\n",
    "from xgboost import XGBRegressor, plot_importance\n",
    "\n",
    "\n",
    "from sklearn.model_selection import train_test_split, GridSearchCV\n",
    "from xgboost import XGBRegressor, plot_importance"
   ]
  },
  {
   "cell_type": "markdown",
   "metadata": {},
   "source": [
    "## Step 0: Import the files\n",
    "\n",
    "We import the files train.csv and test.csv, put them together to make sure they have the same levels. We will pre-process the data on the full dataset to simplify this analysis."
   ]
  },
  {
   "cell_type": "code",
   "execution_count": 6,
   "metadata": {},
   "outputs": [
    {
     "name": "stdout",
     "output_type": "stream",
     "text": [
      "(1460, 81)\n",
      "(1459, 81)\n",
      "(2919, 81)\n"
     ]
    }
   ],
   "source": [
    "train = pd.read_csv('data/train.csv')\n",
    "test = pd.read_csv('data/test.csv')\n",
    "test['SalePrice'] = np.nan\n",
    "\n",
    "df = pd.concat(\n",
    "    [\n",
    "        train,\n",
    "        test \n",
    "    ],\n",
    "    axis = 0,\n",
    "    ignore_index= True\n",
    ")\n",
    "print(train.shape)\n",
    "print(test.shape)\n",
    "print(df.shape)"
   ]
  },
  {
   "cell_type": "code",
   "execution_count": 7,
   "metadata": {},
   "outputs": [
    {
     "data": {
      "text/plain": [
       "Index(['Id', 'MSSubClass', 'MSZoning', 'LotFrontage', 'LotArea', 'Street',\n",
       "       'Alley', 'LotShape', 'LandContour', 'Utilities', 'LotConfig',\n",
       "       'LandSlope', 'Neighborhood', 'Condition1', 'Condition2', 'BldgType',\n",
       "       'HouseStyle', 'OverallQual', 'OverallCond', 'YearBuilt', 'YearRemodAdd',\n",
       "       'RoofStyle', 'RoofMatl', 'Exterior1st', 'Exterior2nd', 'MasVnrType',\n",
       "       'MasVnrArea', 'ExterQual', 'ExterCond', 'Foundation', 'BsmtQual',\n",
       "       'BsmtCond', 'BsmtExposure', 'BsmtFinType1', 'BsmtFinSF1',\n",
       "       'BsmtFinType2', 'BsmtFinSF2', 'BsmtUnfSF', 'TotalBsmtSF', 'Heating',\n",
       "       'HeatingQC', 'CentralAir', 'Electrical', '1stFlrSF', '2ndFlrSF',\n",
       "       'LowQualFinSF', 'GrLivArea', 'BsmtFullBath', 'BsmtHalfBath', 'FullBath',\n",
       "       'HalfBath', 'BedroomAbvGr', 'KitchenAbvGr', 'KitchenQual',\n",
       "       'TotRmsAbvGrd', 'Functional', 'Fireplaces', 'FireplaceQu', 'GarageType',\n",
       "       'GarageYrBlt', 'GarageFinish', 'GarageCars', 'GarageArea', 'GarageQual',\n",
       "       'GarageCond', 'PavedDrive', 'WoodDeckSF', 'OpenPorchSF',\n",
       "       'EnclosedPorch', '3SsnPorch', 'ScreenPorch', 'PoolArea', 'PoolQC',\n",
       "       'Fence', 'MiscFeature', 'MiscVal', 'MoSold', 'YrSold', 'SaleType',\n",
       "       'SaleCondition', 'SalePrice'],\n",
       "      dtype='object')"
      ]
     },
     "execution_count": 7,
     "metadata": {},
     "output_type": "execute_result"
    }
   ],
   "source": [
    "df.columns"
   ]
  },
  {
   "cell_type": "markdown",
   "metadata": {},
   "source": [
    "We keep the Id column for now, but it will be removed later on."
   ]
  },
  {
   "cell_type": "markdown",
   "metadata": {},
   "source": [
    "## Step 1 - Exploring the output column"
   ]
  },
  {
   "cell_type": "code",
   "execution_count": 12,
   "metadata": {},
   "outputs": [
    {
     "data": {
      "image/png": "[encoded data removed]",
      "text/plain": [
       "<Figure size 432x288 with 1 Axes>"
      ]
     },
     "metadata": {
      "needs_background": "light"
     },
     "output_type": "display_data"
    }
   ],
   "source": [
    "# histogram of SalePrice\n",
    "plt.hist(\n",
    "    df['SalePrice'],\n",
    "    bins = 50\n",
    ");"
   ]
  },
  {
   "cell_type": "code",
   "execution_count": 14,
   "metadata": {},
   "outputs": [
    {
     "data": {
      "image/png": "[encoded data removed]",
      "text/plain": [
       "<Figure size 432x288 with 1 Axes>"
      ]
     },
     "metadata": {
      "needs_background": "light"
     },
     "output_type": "display_data"
    }
   ],
   "source": [
    "# qq plot\n",
    "stats.probplot(\n",
    "    df['SalePrice'],\n",
    "    dist=\"norm\",\n",
    "    plot=pylab\n",
    ")\n",
    "pylab.show()"
   ]
  },
  {
   "cell_type": "markdown",
   "metadata": {},
   "source": [
    "We see that the SalePrice column has a right tail. Let's log the predictions to have a normally distributed target.\n"
   ]
  },
  {
   "cell_type": "code",
   "execution_count": 15,
   "metadata": {},
   "outputs": [],
   "source": [
    "# let's log transform the SalePrice column\n",
    "df['SalePrice'] = np.log(df['SalePrice'])"
   ]
  },
  {
   "cell_type": "code",
   "execution_count": 16,
   "metadata": {},
   "outputs": [
    {
     "data": {
      "image/png": "[encoded data removed]",
      "text/plain": [
       "<Figure size 432x288 with 1 Axes>"
      ]
     },
     "metadata": {
      "needs_background": "light"
     },
     "output_type": "display_data"
    }
   ],
   "source": [
    "# histogram of SalePrice\n",
    "plt.hist(\n",
    "    df['SalePrice'],\n",
    "    bins = 50\n",
    ");"
   ]
  },
  {
   "cell_type": "code",
   "execution_count": 17,
   "metadata": {},
   "outputs": [
    {
     "data": {
      "image/png": "[encoded data removed]",
      "text/plain": [
       "<Figure size 432x288 with 1 Axes>"
      ]
     },
     "metadata": {
      "needs_background": "light"
     },
     "output_type": "display_data"
    }
   ],
   "source": [
    "# qq plot\n",
    "stats.probplot(\n",
    "    df['SalePrice'],\n",
    "    dist=\"norm\",\n",
    "    plot=pylab\n",
    ")\n",
    "pylab.show()"
   ]
  },
  {
   "cell_type": "markdown",
   "metadata": {},
   "source": [
    "We see that 5 sales have very low SalePrices and 2 very high ones.\n",
    "\n",
    "After short investigation, we can see that the 5 houses with low SalePrice are very old houses (built before 1950) of below average general condition and usually with an abnormal sale condition.\n",
    "\n",
    "As for the 2 rows with very high SalePrice, they were built around 1994-6, with overall excellent condition for each check done (Garages, rooms, Kitchen, etc). One even has a pool.\n",
    "\n",
    "We do not consider these 7 profiles as outliers, and will keep them in the analysis."
   ]
  },
  {
   "cell_type": "markdown",
   "metadata": {},
   "source": [
    "## Step 2 - Missing values\n",
    "\n",
    "Let's first look at the columns with missing values:"
   ]
  },
  {
   "cell_type": "code",
   "execution_count": 20,
   "metadata": {},
   "outputs": [],
   "source": [
    "# check missing values\n",
    "missing_vals = df.isna().sum()[df.isna().sum()>0]"
   ]
  },
  {
   "cell_type": "code",
   "execution_count": 21,
   "metadata": {},
   "outputs": [
    {
     "name": "stdout",
     "output_type": "stream",
     "text": [
      "\n",
      "    35 predictors have missing values, and SalePrice is missing 1459 times, as expected.\n",
      "    \n"
     ]
    }
   ],
   "source": [
    "print(\n",
    "    f\"\"\"\n",
    "    {len(missing_vals)} predictors have missing values, and SalePrice is missing {missing_vals[\"SalePrice\"]} times, as expected.\n",
    "    \"\"\"\n",
    ")"
   ]
  },
  {
   "cell_type": "markdown",
   "metadata": {},
   "source": [
    "Let's look at each of these predictors with missing variable, group by group, to try to understand the best way to fill them."
   ]
  },
  {
   "cell_type": "markdown",
   "metadata": {},
   "source": [
    "### 2.1 Pool variables"
   ]
  },
  {
   "cell_type": "code",
   "execution_count": 23,
   "metadata": {},
   "outputs": [
    {
     "name": "stdout",
     "output_type": "stream",
     "text": [
      "PoolQC is pool quality, where NA means in theory \"no pool\". It is an ordered factor with 99.6574% of NAs.  It is an ordered variable.\n",
      "\n",
      "There is another variable called PoolArea, for the area of the pool. When we look at the area if there is a pool or not, we see that the area is most of the time 0 if there is no pool.\n",
      "\n"
     ]
    }
   ],
   "source": [
    "print(\n",
    "    f\"\"\"PoolQC is pool quality, where NA means in theory \"no pool\". It is an ordered factor with {np.round(missing_vals['PoolQC']/df.shape[0]*100,4)}% of NAs.  It is an ordered variable.\n",
    "\"\"\")"
   ]
  },
  {
   "cell_type": "code",
   "execution_count": 25,
   "metadata": {},
   "outputs": [
    {
     "data": {
      "text/plain": [
       "0      2906\n",
       "368       1\n",
       "444       1\n",
       "561       1\n",
       "Name: PoolArea, dtype: int64"
      ]
     },
     "execution_count": 25,
     "metadata": {},
     "output_type": "execute_result"
    }
   ],
   "source": [
    "df[df['PoolQC'].isna()]['PoolArea'].value_counts()"
   ]
  },
  {
   "cell_type": "markdown",
   "metadata": {},
   "source": [
    "There is another variable called PoolArea, for the area of the pool. When we look at the area if there is a pool or not, we see that the area is most of the time 0 if there is no pool.\n",
    "\n",
    "We will add \"No\" as a level, and replace all NAs that have 0 as area by \"No\". the NAs with PoolArea>0 will be filled based on the Overall quality of the house: \n",
    "\n",
    "- if OverallQual is <= 2, returns \"Po\"\n",
    "- else, if OverallQual is <= 4, returns \"Fa\"\n",
    "- else, if OverallQual is <= 6, returns \"TA\"\n",
    "- else, if OverallQual is <= 8, returns \"Gd\"\n",
    "- else, returns \"Ex\""
   ]
  },
  {
   "cell_type": "code",
   "execution_count": 31,
   "metadata": {},
   "outputs": [],
   "source": [
    "df['PoolQC'] = df['PoolQC'].map(str)\n",
    "df['overall_fac'] = np.select(\n",
    "    [\n",
    "        df['OverallQual'] <= 2,\n",
    "        df['OverallQual'] <= 4,\n",
    "        df['OverallQual'] <= 6,\n",
    "        df['OverallQual'] <= 8\n",
    "    ],\n",
    "    [\n",
    "        'Po','Fa','TA','Gd'\n",
    "    ],\n",
    "    'Ex'\n",
    ")\n",
    "df['PoolQC'] = np.select(\n",
    "    [\n",
    "        (df['PoolQC'].isna()) & ( df['PoolArea'] > 0 ),\n",
    "        (~ df['PoolQC'].isna()) & ( df['PoolArea'] > 0 ),\n",
    "    ],\n",
    "    [ \n",
    "        df['overall_fac'],\n",
    "        df['PoolQC']\n",
    "    ],\n",
    "    \"No\"\n",
    ")"
   ]
  },
  {
   "cell_type": "markdown",
   "metadata": {},
   "source": [
    "### 2.2 MiscFeature variable"
   ]
  },
  {
   "cell_type": "code",
   "execution_count": 33,
   "metadata": {},
   "outputs": [
    {
     "name": "stdout",
     "output_type": "stream",
     "text": [
      "If we look at the variable MiscFeature, we see that 96.4029% of the values are missing. It is an unordered factor.\n"
     ]
    }
   ],
   "source": [
    "print(f\"If we look at the variable MiscFeature, we see that {np.round(missing_vals['MiscFeature']/df.shape[0]*100,4)}% of the values are missing. It is an unordered factor.\")"
   ]
  },
  {
   "cell_type": "markdown",
   "metadata": {},
   "source": [
    "When looking at the boxplots we see that when there are values, the impact on the sold price is quite significant.\n"
   ]
  },
  {
   "cell_type": "code",
   "execution_count": 35,
   "metadata": {},
   "outputs": [
    {
     "data": {
      "text/plain": [
       "<AxesSubplot:xlabel='MiscFeature', ylabel='SalePrice'>"
      ]
     },
     "execution_count": 35,
     "metadata": {},
     "output_type": "execute_result"
    },
    {
     "data": {
      "image/png": "[encoded data removed]",
      "text/plain": [
       "<Figure size 432x288 with 1 Axes>"
      ]
     },
     "metadata": {
      "needs_background": "light"
     },
     "output_type": "display_data"
    }
   ],
   "source": [
    "sns.boxplot(\n",
    "    x = 'MiscFeature',\n",
    "    y = 'SalePrice',\n",
    "    data = df[~ df['SalePrice'].isna()]\n",
    ")"
   ]
  },
  {
   "cell_type": "markdown",
   "metadata": {},
   "source": [
    "We are replacing the missing Misc feature by \"No\""
   ]
  },
  {
   "cell_type": "code",
   "execution_count": 37,
   "metadata": {},
   "outputs": [],
   "source": [
    "df['MiscFeature'] = df['MiscFeature'].fillna('No')"
   ]
  },
  {
   "cell_type": "code",
   "execution_count": 38,
   "metadata": {},
   "outputs": [
    {
     "data": {
      "text/plain": [
       "<AxesSubplot:xlabel='MiscFeature', ylabel='SalePrice'>"
      ]
     },
     "execution_count": 38,
     "metadata": {},
     "output_type": "execute_result"
    },
    {
     "data": {
      "image/png": "[encoded data removed]",
      "text/plain": [
       "<Figure size 432x288 with 1 Axes>"
      ]
     },
     "metadata": {
      "needs_background": "light"
     },
     "output_type": "display_data"
    }
   ],
   "source": [
    "sns.boxplot(\n",
    "    x = 'MiscFeature',\n",
    "    y = 'SalePrice',\n",
    "    data = df[~ df['SalePrice'].isna()]\n",
    ")"
   ]
  },
  {
   "cell_type": "markdown",
   "metadata": {},
   "source": [
    "### 2.3 Alley variable"
   ]
  },
  {
   "cell_type": "code",
   "execution_count": 40,
   "metadata": {},
   "outputs": [
    {
     "name": "stdout",
     "output_type": "stream",
     "text": [
      "The Alley contains the type of alley to the house, where a missing value means that there is not any alley. 93.2169% of the values are missing. It is an unordered factor.\n"
     ]
    }
   ],
   "source": [
    "print(f\"The Alley contains the type of alley to the house, where a missing value means that there is not any alley. {np.round(missing_vals['Alley']/df.shape[0]*100,4)}% of the values are missing. It is an unordered factor.\")"
   ]
  },
  {
   "cell_type": "code",
   "execution_count": 41,
   "metadata": {},
   "outputs": [
    {
     "data": {
      "text/plain": [
       "<AxesSubplot:xlabel='Alley', ylabel='SalePrice'>"
      ]
     },
     "execution_count": 41,
     "metadata": {},
     "output_type": "execute_result"
    },
    {
     "data": {
      "image/png": "[encoded data removed]",
      "text/plain": [
       "<Figure size 432x288 with 1 Axes>"
      ]
     },
     "metadata": {
      "needs_background": "light"
     },
     "output_type": "display_data"
    }
   ],
   "source": [
    "sns.boxplot(\n",
    "    x = 'Alley',\n",
    "    y = 'SalePrice',\n",
    "    data = df[~ df['SalePrice'].isna()]\n",
    ")"
   ]
  },
  {
   "cell_type": "markdown",
   "metadata": {},
   "source": [
    "We replace the missing values by \"No\"."
   ]
  },
  {
   "cell_type": "code",
   "execution_count": 42,
   "metadata": {},
   "outputs": [],
   "source": [
    "df['Alley'] = df['Alley'].fillna('No')"
   ]
  },
  {
   "cell_type": "code",
   "execution_count": 43,
   "metadata": {},
   "outputs": [
    {
     "data": {
      "text/plain": [
       "<AxesSubplot:xlabel='Alley', ylabel='SalePrice'>"
      ]
     },
     "execution_count": 43,
     "metadata": {},
     "output_type": "execute_result"
    },
    {
     "data": {
      "image/png": "[encoded data removed]",
      "text/plain": [
       "<Figure size 432x288 with 1 Axes>"
      ]
     },
     "metadata": {
      "needs_background": "light"
     },
     "output_type": "display_data"
    }
   ],
   "source": [
    "sns.boxplot(\n",
    "    x = 'Alley',\n",
    "    y = 'SalePrice',\n",
    "    data = df[~ df['SalePrice'].isna()]\n",
    ")"
   ]
  },
  {
   "cell_type": "markdown",
   "metadata": {},
   "source": [
    "### 2.4 Fence variable"
   ]
  },
  {
   "cell_type": "code",
   "execution_count": 50,
   "metadata": {},
   "outputs": [
    {
     "name": "stdout",
     "output_type": "stream",
     "text": [
      "The Fence variable contains the type of fence around the house, where a missing value means that there is not any fence. 80.4385% of the values are missing. It is an unordered factor.\n"
     ]
    }
   ],
   "source": [
    "print(f\"The Fence variable contains the type of fence around the house, where a missing value means that there is not any fence. {np.round(missing_vals['Fence']/df.shape[0]*100,4)}% of the values are missing. It is an unordered factor.\")"
   ]
  },
  {
   "cell_type": "code",
   "execution_count": 45,
   "metadata": {},
   "outputs": [
    {
     "data": {
      "text/plain": [
       "<AxesSubplot:xlabel='Fence', ylabel='SalePrice'>"
      ]
     },
     "execution_count": 45,
     "metadata": {},
     "output_type": "execute_result"
    },
    {
     "data": {
      "image/png": "[encoded data removed]",
      "text/plain": [
       "<Figure size 432x288 with 1 Axes>"
      ]
     },
     "metadata": {
      "needs_background": "light"
     },
     "output_type": "display_data"
    }
   ],
   "source": [
    "sns.boxplot(\n",
    "    x = 'Fence',\n",
    "    y = 'SalePrice',\n",
    "    data = df[~ df['SalePrice'].isna()]\n",
    ")"
   ]
  },
  {
   "cell_type": "code",
   "execution_count": 46,
   "metadata": {},
   "outputs": [],
   "source": [
    "df['Fence'] = df['Fence'].fillna('No')"
   ]
  },
  {
   "cell_type": "code",
   "execution_count": 47,
   "metadata": {},
   "outputs": [
    {
     "data": {
      "text/plain": [
       "<AxesSubplot:xlabel='Fence', ylabel='SalePrice'>"
      ]
     },
     "execution_count": 47,
     "metadata": {},
     "output_type": "execute_result"
    },
    {
     "data": {
      "image/png": "[encoded data removed]",
      "text/plain": [
       "<Figure size 432x288 with 1 Axes>"
      ]
     },
     "metadata": {
      "needs_background": "light"
     },
     "output_type": "display_data"
    }
   ],
   "source": [
    "sns.boxplot(\n",
    "    x = 'Fence',\n",
    "    y = 'SalePrice',\n",
    "    data = df[~ df['SalePrice'].isna()]\n",
    ")"
   ]
  },
  {
   "cell_type": "markdown",
   "metadata": {},
   "source": [
    "### 2.5 Fireplace\n",
    "There are 2 variables relative to the fireplaces: Fireplaces, counting the number of fireplaces, and FireplaceQu for the fireplace quality."
   ]
  },
  {
   "cell_type": "code",
   "execution_count": 49,
   "metadata": {},
   "outputs": [
    {
     "name": "stdout",
     "output_type": "stream",
     "text": [
      "The FireplaceQu variable has 48.6468% missing values. It is an ordered factor.\n"
     ]
    }
   ],
   "source": [
    "print(f\"The FireplaceQu variable has {np.round(missing_vals['FireplaceQu']/df.shape[0]*100,4)}% missing values. It is an ordered factor.\")"
   ]
  },
  {
   "cell_type": "code",
   "execution_count": 52,
   "metadata": {},
   "outputs": [
    {
     "data": {
      "text/plain": [
       "0    1420\n",
       "Name: Fireplaces, dtype: int64"
      ]
     },
     "execution_count": 52,
     "metadata": {},
     "output_type": "execute_result"
    }
   ],
   "source": [
    "df[df['FireplaceQu'].isna()]['Fireplaces'].value_counts()"
   ]
  },
  {
   "cell_type": "code",
   "execution_count": 53,
   "metadata": {},
   "outputs": [
    {
     "data": {
      "text/plain": [
       "<AxesSubplot:xlabel='FireplaceQu', ylabel='SalePrice'>"
      ]
     },
     "execution_count": 53,
     "metadata": {},
     "output_type": "execute_result"
    },
    {
     "data": {
      "image/png": "[encoded data removed]",
      "text/plain": [
       "<Figure size 432x288 with 1 Axes>"
      ]
     },
     "metadata": {
      "needs_background": "light"
     },
     "output_type": "display_data"
    }
   ],
   "source": [
    "sns.boxplot(\n",
    "    x = 'FireplaceQu',\n",
    "    y = 'SalePrice',\n",
    "    data = df[~ df['SalePrice'].isna()]\n",
    ")"
   ]
  },
  {
   "cell_type": "markdown",
   "metadata": {},
   "source": [
    "We replace the missing values by \"No\""
   ]
  },
  {
   "cell_type": "code",
   "execution_count": 54,
   "metadata": {},
   "outputs": [],
   "source": [
    "df['FireplaceQu'] = df['FireplaceQu'].fillna('No')"
   ]
  },
  {
   "cell_type": "code",
   "execution_count": 55,
   "metadata": {},
   "outputs": [
    {
     "data": {
      "text/plain": [
       "<AxesSubplot:xlabel='FireplaceQu', ylabel='SalePrice'>"
      ]
     },
     "execution_count": 55,
     "metadata": {},
     "output_type": "execute_result"
    },
    {
     "data": {
      "image/png": "[encoded data removed]",
      "text/plain": [
       "<Figure size 432x288 with 1 Axes>"
      ]
     },
     "metadata": {
      "needs_background": "light"
     },
     "output_type": "display_data"
    }
   ],
   "source": [
    "sns.boxplot(\n",
    "    x = 'FireplaceQu',\n",
    "    y = 'SalePrice',\n",
    "    data = df[~ df['SalePrice'].isna()]\n",
    ")"
   ]
  },
  {
   "cell_type": "markdown",
   "metadata": {},
   "source": [
    "### 2.6 LotFrontage variable"
   ]
  },
  {
   "cell_type": "code",
   "execution_count": 57,
   "metadata": {},
   "outputs": [
    {
     "name": "stdout",
     "output_type": "stream",
     "text": [
      "The LotFrontage variable contains the linear feet of street connected to property. It is a numerical variable, with 16.6495% missing values.\n"
     ]
    }
   ],
   "source": [
    "print(f\"The LotFrontage variable contains the linear feet of street connected to property. It is a numerical variable, with {np.round(missing_vals['LotFrontage']/df.shape[0]*100,4)}% missing values.\")\n"
   ]
  },
  {
   "cell_type": "code",
   "execution_count": 58,
   "metadata": {},
   "outputs": [
    {
     "data": {
      "text/plain": [
       "<AxesSubplot:xlabel='LotFrontage', ylabel='SalePrice'>"
      ]
     },
     "execution_count": 58,
     "metadata": {},
     "output_type": "execute_result"
    },
    {
     "data": {
      "image/png": "[encoded data removed]",
      "text/plain": [
       "<Figure size 432x288 with 1 Axes>"
      ]
     },
     "metadata": {
      "needs_background": "light"
     },
     "output_type": "display_data"
    }
   ],
   "source": [
    "sns.lineplot(x = 'LotFrontage',y = 'SalePrice',data = df)"
   ]
  },
  {
   "cell_type": "markdown",
   "metadata": {},
   "source": [
    "We will fill this variable with a KNN model"
   ]
  },
  {
   "cell_type": "markdown",
   "metadata": {},
   "source": [
    "### 2.7 Garage variables\n",
    "There are 7 variables related to houses' garages.\n",
    "\n",
    "GarageCars and GarageArea have 1 missing value for the observation Id 2577. This house seems to not have any garage, thus we replace the values of these 2 predictors by 0 and remove the value in GarageType.\n"
   ]
  },
  {
   "cell_type": "code",
   "execution_count": 61,
   "metadata": {},
   "outputs": [
    {
     "data": {
      "text/plain": [
       "Id                 2577\n",
       "MSSubClass           70\n",
       "MSZoning             RM\n",
       "LotFrontage        50.0\n",
       "LotArea            9060\n",
       "                  ...  \n",
       "YrSold             2007\n",
       "SaleType             WD\n",
       "SaleCondition    Alloca\n",
       "SalePrice           NaN\n",
       "overall_fac          TA\n",
       "Name: 2576, Length: 82, dtype: object"
      ]
     },
     "execution_count": 61,
     "metadata": {},
     "output_type": "execute_result"
    }
   ],
   "source": [
    "df.iloc[2576,:]"
   ]
  },
  {
   "cell_type": "code",
   "execution_count": 62,
   "metadata": {},
   "outputs": [],
   "source": [
    "df['GarageType'] = np.where(\n",
    "    df['GarageArea'].isna(),\n",
    "    np.nan,\n",
    "    df['GarageType']\n",
    ")\n",
    "df['GarageArea'] = df['GarageArea'].fillna(0)\n",
    "df['GarageCars'] = df['GarageCars'].fillna(0)\n"
   ]
  },
  {
   "cell_type": "markdown",
   "metadata": {},
   "source": [
    "In the rows when there is no garage, GarageCars and GarageArea are fixed to 0 and GarageType, GarageYrBlt, GarageFinish, GarageQual and GarageCond are missing. All 5 are ordered factors.\n",
    "\n",
    "There is a row with Id 2127 where GarageYrBlt, GarageFinish, GarageQual and GarageCond are missing, but GarageArea > 0 and GarageType exists. \n",
    "\n",
    "Except for this row, the predictors GarageType, GarageFinish, GarageQual and GarageCond will be filled with a new value \"No\" and GarageYrBlt will be filled by the year the house was built.\n",
    "\n",
    "We will fill the row 2127 with a knn method.\n"
   ]
  },
  {
   "cell_type": "code",
   "execution_count": 63,
   "metadata": {},
   "outputs": [
    {
     "name": "stderr",
     "output_type": "stream",
     "text": [
      "C:\\Users\\jsbin\\AppData\\Local\\Temp\\ipykernel_12260\\2744137296.py:11: SettingWithCopyWarning: \n",
      "A value is trying to be set on a copy of a slice from a DataFrame.\n",
      "Try using .loc[row_indexer,col_indexer] = value instead\n",
      "\n",
      "See the caveats in the documentation: https://pandas.pydata.org/pandas-docs/stable/user_guide/indexing.html#returning-a-view-versus-a-copy\n",
      "  df[df['Id']==2127][['GarageYrBlt','GarageType','GarageFinish','GarageQual','GarageCond']] = np.nan\n"
     ]
    }
   ],
   "source": [
    "df['GarageYrBlt'] = np.where(\n",
    "    df['GarageYrBlt'].isna() & df['Id'] != 2127,\n",
    "    df['YearBuilt'],\n",
    "    df['GarageYrBlt']\n",
    ")\n",
    "df['GarageType'] = df['GarageType'].fillna('No')\n",
    "df['GarageFinish'] = df['GarageFinish'].fillna('No')\n",
    "df['GarageQual'] = df['GarageQual'].fillna('No')\n",
    "df['GarageCond'] = df['GarageCond'].fillna('No')\n",
    "\n",
    "df[df['Id']==2127][['GarageYrBlt','GarageType','GarageFinish','GarageQual','GarageCond']] = np.nan"
   ]
  },
  {
   "cell_type": "markdown",
   "metadata": {},
   "source": [
    "### 2.8 Basement variables\n",
    "There are 11 variables related to houses' basements, and all of them have missing values with different percentages:\n"
   ]
  },
  {
   "cell_type": "code",
   "execution_count": 64,
   "metadata": {},
   "outputs": [
    {
     "name": "stdout",
     "output_type": "stream",
     "text": [
      "- There are 2.7749% missing values for variable BsmtQual\n",
      "- There are 2.8092% missing values for variable BsmtCond\n",
      "- There are 2.8092% missing values for variable BsmtExposure\n",
      "- There are 2.7064% missing values for variable BsmtFinType1\n",
      "- There are 0.0343% missing values for variable BsmtFinSF1\n",
      "- There are 2.7407% missing values for variable BsmtFinType2\n",
      "- There are 0.0343% missing values for variable BsmtFinSF2\n",
      "- There are 0.0343% missing values for variable BsmtUnfSF\n",
      "- There are 0.0685% missing values for variable BsmtFullBath\n",
      "- There are 0.0685% missing values for variable BsmtHalfBath\n"
     ]
    }
   ],
   "source": [
    "for col in [col for col in df.columns if col.startswith('Bsmt')]:\n",
    "    print(f\"- There are {np.round(missing_vals[col]/df.shape[0]*100,4)}% missing values for variable {col}\")"
   ]
  },
  {
   "cell_type": "markdown",
   "metadata": {},
   "source": [
    "All of these predictors are either ordered factors or numerical.\n",
    "\n",
    "The row with Id 2121 is NA for all basement variables. We replace the numerical values by 0 and the factor ones by \"No\".\n",
    "\n",
    "The row with Id 2189 is the other one with NA for the variables related to Bathrooms in the basement. We replace them with 0.\n",
    "\n",
    "The rows with Id 2041, 2186 and 2525 contain missing values only for BsmtCond. We replace them with the values in BsmtQual, which are average.\n",
    "\n",
    "The rows with Id 949, 1488 and 2349 contain missing values only for BsmtExposure. Since for these profiles the BsmtQual and BsmtCond are average, we replace them with the \"Av\" value.\n",
    "\n",
    "\n",
    "All other rows, we consider that there is no basement. We replace the missing value by \"No\" except for BsmtExposure where we will replace it with \"None\" since the value \"No\" already exists.\n"
   ]
  },
  {
   "cell_type": "code",
   "execution_count": 66,
   "metadata": {},
   "outputs": [],
   "source": [
    "for col in ['BsmtFinSF1','BsmtFinSF2','BsmtUnfSF','TotalBsmtSF','BsmtFullBath','BsmtHalfBath']:\n",
    "    df[col] = df[col].fillna(0)\n",
    "\n",
    "df['BsmtCond'] = np.where(\n",
    "    (df['BsmtCond'].isna()) & (~ df['BsmtQual'].isna()),\n",
    "    df['BsmtQual'],\n",
    "    df['BsmtCond']\n",
    ")\n",
    "df['BsmtQual'] = df['BsmtQual'].fillna('No')\n",
    "df['BsmtCond'] = df['BsmtCond'].fillna('No')\n",
    "df['BsmtFinType1'] = df['BsmtFinType1'].fillna('No')\n",
    "df['BsmtFinType2'] = df['BsmtFinType2'].fillna('No')\n",
    "df['BsmtExposure'] = np.select(\n",
    "    [\n",
    "        (df['BsmtExposure'].isna()) & (df['BsmtQual'] != 'No'),\n",
    "        df['BsmtQual'] == 'No'\n",
    "    ],\n",
    "    [\n",
    "        'Av','None'\n",
    "    ],\n",
    "    df['BsmtExposure']\n",
    ")\n",
    "\n",
    "# Stopped at line 431 or the EDA.Rmd file."
   ]
  },
  {
   "cell_type": "markdown",
   "metadata": {},
   "source": [
    "### 2.9 Masonry veneer variables"
   ]
  },
  {
   "cell_type": "code",
   "execution_count": 67,
   "metadata": {},
   "outputs": [
    {
     "name": "stdout",
     "output_type": "stream",
     "text": [
      "There are 2 variables related to Masonry veneer: MasVnrArea and MasVnrType. The first has 23 missing values, and the latter 24.\n"
     ]
    }
   ],
   "source": [
    "print(f\"There are 2 variables related to Masonry veneer: MasVnrArea and MasVnrType. The first has {missing_vals['MasVnrArea']} missing values, and the latter {missing_vals['MasVnrType']}.\")"
   ]
  },
  {
   "cell_type": "code",
   "execution_count": 71,
   "metadata": {},
   "outputs": [
    {
     "data": {
      "text/plain": [
       "<AxesSubplot:xlabel='MasVnrArea', ylabel='SalePrice'>"
      ]
     },
     "execution_count": 71,
     "metadata": {},
     "output_type": "execute_result"
    },
    {
     "data": {
      "image/png": "[encoded data removed]",
      "text/plain": [
       "<Figure size 432x288 with 1 Axes>"
      ]
     },
     "metadata": {
      "needs_background": "light"
     },
     "output_type": "display_data"
    }
   ],
   "source": [
    "sns.lineplot(x = 'MasVnrArea',y = 'SalePrice',data = df)"
   ]
  },
  {
   "cell_type": "code",
   "execution_count": 70,
   "metadata": {},
   "outputs": [
    {
     "data": {
      "text/plain": [
       "<AxesSubplot:xlabel='MasVnrType', ylabel='SalePrice'>"
      ]
     },
     "execution_count": 70,
     "metadata": {},
     "output_type": "execute_result"
    },
    {
     "data": {
      "image/png": "[encoded data removed]",
      "text/plain": [
       "<Figure size 432x288 with 1 Axes>"
      ]
     },
     "metadata": {
      "needs_background": "light"
     },
     "output_type": "display_data"
    }
   ],
   "source": [
    "sns.boxplot(\n",
    "    x = 'MasVnrType',\n",
    "    y = 'SalePrice',\n",
    "    data = df[~ df['SalePrice'].isna()]\n",
    ")"
   ]
  },
  {
   "cell_type": "markdown",
   "metadata": {},
   "source": [
    "Row Id 2611 has a missing value for MasVnrType but not MasVnrArea. We will fill MasVnrArea with 0 and  MasVnrType with \"None\" for all missing values except Id 2611, and use a knn impute for this specific row.\n"
   ]
  },
  {
   "cell_type": "code",
   "execution_count": 73,
   "metadata": {},
   "outputs": [],
   "source": [
    "df['MasVnrType'] = np.where(\n",
    "    df['MasVnrArea'].isna(),\n",
    "    \"None\",\n",
    "    df['MasVnrType']\n",
    ")\n",
    "df['MasVnrArea'] = df['MasVnrArea'].fillna(0)"
   ]
  },
  {
   "cell_type": "markdown",
   "metadata": {},
   "source": [
    "### 2.10 Other variables\n",
    "MSZoning has 4 missing values, Utilities 2, Functional 2, Exterior1st, Exterior2nd, Electrical, KitchenQual and SaleType have 1. All of these are factors, some ordered some not.\n",
    "\n",
    "We fill these variables with a knn impute."
   ]
  },
  {
   "cell_type": "code",
   "execution_count": 79,
   "metadata": {},
   "outputs": [],
   "source": [
    "\n",
    "numerical_cols  = list(df.select_dtypes('number'))\n",
    "categorical_cols = [col for col in df.columns if col not in numerical_cols]\n",
    "\n",
    "imputer = KNNImputer(n_neighbors=2)\n",
    "imputed_numerical = imputer.fit_transform(df[numerical_cols])\n",
    "imputed_numerical = pd.DataFrame(imputed_numerical)\n",
    "imputed_numerical.columns = numerical_cols\n",
    "\n",
    "df = pd.concat(\n",
    "    [\n",
    "        df[categorical_cols],\n",
    "        imputed_numerical\n",
    "    ],\n",
    "    axis = 1)\n",
    "\n",
    "df['PoolArea'] = np.where(\n",
    "    df['PoolQC'] == 'No',\n",
    "    0,\n",
    "    df['PoolArea']\n",
    ")"
   ]
  },
  {
   "cell_type": "markdown",
   "metadata": {},
   "source": [
    "## Step 3 - Change variable types\n",
    "Some of the columns received the wrong type when reading the files: either they are written as categorical but should be numerical (and ordered), or they are numerical but should have been categoricals.\n",
    "\n",
    "Some of the columns that are numerical could be seen as factors instead.\n",
    "\n",
    "MSSubClass identifies the type of dwelling involved in the sale. It is coded as a numerical variable but is really categorical."
   ]
  },
  {
   "cell_type": "code",
   "execution_count": 87,
   "metadata": {},
   "outputs": [
    {
     "data": {
      "text/plain": [
       "<AxesSubplot:xlabel='MSSubClass', ylabel='SalePrice'>"
      ]
     },
     "execution_count": 87,
     "metadata": {},
     "output_type": "execute_result"
    },
    {
     "data": {
      "image/png": "[encoded data removed]",
      "text/plain": [
       "<Figure size 432x288 with 1 Axes>"
      ]
     },
     "metadata": {
      "needs_background": "light"
     },
     "output_type": "display_data"
    }
   ],
   "source": [
    "sns.boxplot(\n",
    "    x = 'MSSubClass',\n",
    "    y = 'SalePrice',\n",
    "    data = df[~ df['SalePrice'].isna()]\n",
    ")"
   ]
  },
  {
   "cell_type": "markdown",
   "metadata": {},
   "source": [
    "MoSold and YrSold give details about the date when the house was sold.\n"
   ]
  },
  {
   "cell_type": "code",
   "execution_count": 89,
   "metadata": {},
   "outputs": [
    {
     "data": {
      "text/plain": [
       "<AxesSubplot:xlabel='MoSold', ylabel='SalePrice'>"
      ]
     },
     "execution_count": 89,
     "metadata": {},
     "output_type": "execute_result"
    },
    {
     "data": {
      "image/png": "[encoded data removed]",
      "text/plain": [
       "<Figure size 432x288 with 1 Axes>"
      ]
     },
     "metadata": {
      "needs_background": "light"
     },
     "output_type": "display_data"
    }
   ],
   "source": [
    "sns.boxplot(\n",
    "    x = 'MoSold',\n",
    "    y = 'SalePrice',\n",
    "    data = df[~ df['SalePrice'].isna()]\n",
    ")"
   ]
  },
  {
   "cell_type": "code",
   "execution_count": 90,
   "metadata": {},
   "outputs": [
    {
     "data": {
      "text/plain": [
       "<AxesSubplot:xlabel='YrSold', ylabel='SalePrice'>"
      ]
     },
     "execution_count": 90,
     "metadata": {},
     "output_type": "execute_result"
    },
    {
     "data": {
      "image/png": "[encoded data removed]",
      "text/plain": [
       "<Figure size 432x288 with 1 Axes>"
      ]
     },
     "metadata": {
      "needs_background": "light"
     },
     "output_type": "display_data"
    }
   ],
   "source": [
    "\n",
    "sns.boxplot(\n",
    "    x = 'YrSold',\n",
    "    y = 'SalePrice',\n",
    "    data = df[~ df['SalePrice'].isna()]\n",
    ")"
   ]
  },
  {
   "cell_type": "markdown",
   "metadata": {},
   "source": [
    "We correct these 3 variables to categoricals.\n"
   ]
  },
  {
   "cell_type": "code",
   "execution_count": 91,
   "metadata": {},
   "outputs": [],
   "source": [
    "df['MSSubClass'] = pd.Categorical(df['MSSubClass'])\n",
    "df['MoSold'] = pd.Categorical(df['MoSold'])\n",
    "df['YrSold'] = pd.Categorical(df['YrSold'])"
   ]
  },
  {
   "cell_type": "code",
   "execution_count": 114,
   "metadata": {},
   "outputs": [
    {
     "data": {
      "text/plain": [
       "float64     39\n",
       "category     3\n",
       "category     3\n",
       "category     3\n",
       "category     2\n",
       "category     2\n",
       "category     1\n",
       "category     1\n",
       "category     1\n",
       "category     1\n",
       "category     1\n",
       "category     1\n",
       "category     1\n",
       "category     1\n",
       "category     1\n",
       "category     1\n",
       "category     1\n",
       "category     1\n",
       "category     1\n",
       "category     1\n",
       "category     1\n",
       "category     1\n",
       "category     1\n",
       "category     1\n",
       "category     1\n",
       "category     1\n",
       "category     1\n",
       "category     1\n",
       "category     1\n",
       "category     1\n",
       "category     1\n",
       "category     1\n",
       "category     1\n",
       "category     1\n",
       "category     1\n",
       "category     1\n",
       "category     1\n",
       "category     1\n",
       "category     1\n",
       "category     1\n",
       "category     1\n",
       "category     1\n",
       "dtype: int64"
      ]
     },
     "execution_count": 114,
     "metadata": {},
     "output_type": "execute_result"
    }
   ],
   "source": [
    "df.dtypes.value_counts()"
   ]
  },
  {
   "cell_type": "code",
   "execution_count": 113,
   "metadata": {},
   "outputs": [],
   "source": [
    "for col in list(df.select_dtypes('object')):\n",
    "    df[col] = pd.Categorical(df[col])"
   ]
  },
  {
   "cell_type": "markdown",
   "metadata": {},
   "source": [
    "## Step 4 - Feature Engineering\n",
    "Let's group some of the variables together to see if they have a better impact on the SalePrice"
   ]
  },
  {
   "cell_type": "markdown",
   "metadata": {},
   "source": [
    "### 4.1 Total number of bathrooms\n",
    "Multiple variables describe the number of bathrooms in the houses:\n",
    "\n",
    "Let's group them together into a TotalBathrooms variable\n"
   ]
  },
  {
   "cell_type": "code",
   "execution_count": 92,
   "metadata": {},
   "outputs": [],
   "source": [
    "df['TotalBathrooms'] = df['BsmtFullBath'] + df['FullBath'] + 0.5 * (df['BsmtHalfBath'] + df['HalfBath'])"
   ]
  },
  {
   "cell_type": "code",
   "execution_count": 93,
   "metadata": {},
   "outputs": [
    {
     "data": {
      "text/plain": [
       "<AxesSubplot:xlabel='TotalBathrooms', ylabel='SalePrice'>"
      ]
     },
     "execution_count": 93,
     "metadata": {},
     "output_type": "execute_result"
    },
    {
     "data": {
      "image/png": "[encoded data removed]",
      "text/plain": [
       "<Figure size 432x288 with 1 Axes>"
      ]
     },
     "metadata": {
      "needs_background": "light"
     },
     "output_type": "display_data"
    }
   ],
   "source": [
    "sns.boxplot(\n",
    "    x = 'TotalBathrooms',\n",
    "    y = 'SalePrice',\n",
    "    data = df[~ df['SalePrice'].isna()]\n",
    ")"
   ]
  },
  {
   "cell_type": "markdown",
   "metadata": {},
   "source": [
    "### 4.2 House age, remodeled (Y/N) and IsNew\n",
    "We put together the 3 variables concerning years: YearBuilt, YearRemodAdd and YrSold. Since the year of remodel is the same as the year built if there hasnt been any remodelling, we can separate the data if it has been remodeled or not. Same thing, we can calculate the age of the house when it was sold, and if it was \"new\", aka less than 2 years old.\n"
   ]
  },
  {
   "cell_type": "code",
   "execution_count": 95,
   "metadata": {},
   "outputs": [],
   "source": [
    "df['Age'] = df['YrSold'].astype(int) - df['YearBuilt']\n",
    "df['Remodeled'] = np.where(\n",
    "    df['YearRemodAdd'] == df['YearBuilt'],\n",
    "    \"Y\",\n",
    "    \"N\"\n",
    ")\n",
    "df['New'] = np.where(df['Age'] < 2, \"Y\", \"N\")"
   ]
  },
  {
   "cell_type": "markdown",
   "metadata": {},
   "source": [
    "### 4.3 Total Square feet\n",
    "\n",
    "Let's group all the housing area and the porch area."
   ]
  },
  {
   "cell_type": "code",
   "execution_count": 97,
   "metadata": {},
   "outputs": [],
   "source": [
    "df['PorchArea'] = df['WoodDeckSF'] + df['OpenPorchSF'] + df['EnclosedPorch'] + df['3SsnPorch'] +  df['ScreenPorch'] \n",
    "df['TotalSquareFeet'] = df['GrLivArea'] + df['GarageArea'] + df['BsmtFinSF1'] + df['BsmtFinSF2'] + df['LowQualFinSF'] "
   ]
  },
  {
   "cell_type": "markdown",
   "metadata": {},
   "source": [
    "## Step 5 - Outliers\n",
    "We sawe earlier that 2 rows seem to have very high values for the total square feet while the sale price stays not very high. Let's check these rows:\n"
   ]
  },
  {
   "cell_type": "code",
   "execution_count": 104,
   "metadata": {},
   "outputs": [
    {
     "data": {
      "text/html": [
       "<div>\n",
       "<style scoped>\n",
       "    .dataframe tbody tr th:only-of-type {\n",
       "        vertical-align: middle;\n",
       "    }\n",
       "\n",
       "    .dataframe tbody tr th {\n",
       "        vertical-align: top;\n",
       "    }\n",
       "\n",
       "    .dataframe thead th {\n",
       "        text-align: right;\n",
       "    }\n",
       "</style>\n",
       "<table border=\"1\" class=\"dataframe\">\n",
       "  <thead>\n",
       "    <tr style=\"text-align: right;\">\n",
       "      <th></th>\n",
       "      <th>MSZoning</th>\n",
       "      <th>Street</th>\n",
       "      <th>Alley</th>\n",
       "      <th>LotShape</th>\n",
       "      <th>LandContour</th>\n",
       "      <th>Utilities</th>\n",
       "      <th>LotConfig</th>\n",
       "      <th>LandSlope</th>\n",
       "      <th>Neighborhood</th>\n",
       "      <th>Condition1</th>\n",
       "      <th>...</th>\n",
       "      <th>MiscVal</th>\n",
       "      <th>MoSold</th>\n",
       "      <th>YrSold</th>\n",
       "      <th>SalePrice</th>\n",
       "      <th>TotalBathrooms</th>\n",
       "      <th>Age</th>\n",
       "      <th>Remodeled</th>\n",
       "      <th>New</th>\n",
       "      <th>PorchArea</th>\n",
       "      <th>TotalSquareFeet</th>\n",
       "    </tr>\n",
       "  </thead>\n",
       "  <tbody>\n",
       "    <tr>\n",
       "      <th>523</th>\n",
       "      <td>RL</td>\n",
       "      <td>Pave</td>\n",
       "      <td>No</td>\n",
       "      <td>IR1</td>\n",
       "      <td>Bnk</td>\n",
       "      <td>AllPub</td>\n",
       "      <td>Inside</td>\n",
       "      <td>Gtl</td>\n",
       "      <td>Edwards</td>\n",
       "      <td>PosN</td>\n",
       "      <td>...</td>\n",
       "      <td>0.0</td>\n",
       "      <td>10.0</td>\n",
       "      <td>2007.0</td>\n",
       "      <td>12.126759</td>\n",
       "      <td>4.5</td>\n",
       "      <td>0.0</td>\n",
       "      <td>N</td>\n",
       "      <td>Y</td>\n",
       "      <td>614.0</td>\n",
       "      <td>7820.0</td>\n",
       "    </tr>\n",
       "    <tr>\n",
       "      <th>1298</th>\n",
       "      <td>RL</td>\n",
       "      <td>Pave</td>\n",
       "      <td>No</td>\n",
       "      <td>IR3</td>\n",
       "      <td>Bnk</td>\n",
       "      <td>AllPub</td>\n",
       "      <td>Corner</td>\n",
       "      <td>Gtl</td>\n",
       "      <td>Edwards</td>\n",
       "      <td>Feedr</td>\n",
       "      <td>...</td>\n",
       "      <td>0.0</td>\n",
       "      <td>1.0</td>\n",
       "      <td>2008.0</td>\n",
       "      <td>11.982929</td>\n",
       "      <td>4.5</td>\n",
       "      <td>0.0</td>\n",
       "      <td>Y</td>\n",
       "      <td>Y</td>\n",
       "      <td>506.0</td>\n",
       "      <td>12704.0</td>\n",
       "    </tr>\n",
       "  </tbody>\n",
       "</table>\n",
       "<p>2 rows × 88 columns</p>\n",
       "</div>"
      ],
      "text/plain": [
       "     MSZoning Street Alley LotShape LandContour Utilities LotConfig LandSlope  \\\n",
       "523        RL   Pave    No      IR1         Bnk    AllPub    Inside       Gtl   \n",
       "1298       RL   Pave    No      IR3         Bnk    AllPub    Corner       Gtl   \n",
       "\n",
       "     Neighborhood Condition1  ... MiscVal MoSold  YrSold  SalePrice  \\\n",
       "523       Edwards       PosN  ...     0.0   10.0  2007.0  12.126759   \n",
       "1298      Edwards      Feedr  ...     0.0    1.0  2008.0  11.982929   \n",
       "\n",
       "     TotalBathrooms  Age Remodeled New PorchArea TotalSquareFeet  \n",
       "523             4.5  0.0         N   Y     614.0          7820.0  \n",
       "1298            4.5  0.0         Y   Y     506.0         12704.0  \n",
       "\n",
       "[2 rows x 88 columns]"
      ]
     },
     "execution_count": 104,
     "metadata": {},
     "output_type": "execute_result"
    }
   ],
   "source": [
    "df.iloc[ [523,1298], :]"
   ]
  },
  {
   "cell_type": "markdown",
   "metadata": {},
   "source": [
    "Both of them are new built, with good quality in general and high size. It is probably an error in the dataset.\n",
    "\n",
    "We remove the two rows containing these profiles."
   ]
  },
  {
   "cell_type": "code",
   "execution_count": 105,
   "metadata": {},
   "outputs": [],
   "source": [
    "df = df[ ~ df['Id'].isin([524,1299])].copy()"
   ]
  },
  {
   "cell_type": "markdown",
   "metadata": {},
   "source": [
    "## Step  6 - One Hot Encoding\n",
    "For the categorical columns it is important to use one hot encoding as the XGBoost will not work as well else."
   ]
  },
  {
   "cell_type": "code",
   "execution_count": 128,
   "metadata": {},
   "outputs": [],
   "source": [
    "# features to encode as categorical\n",
    "features_to_ohe = list(df.select_dtypes('object')) + list(df.select_dtypes('category'))\n",
    "df[features_to_ohe] = df[features_to_ohe].apply(lambda x: x.astype(\"category\"))\n",
    "\n",
    "# set up the encoder\n",
    "ohe = OneHotEncoder(sparse = False,\n",
    "                    handle_unknown = 'error',\n",
    "                    drop = 'first')\n",
    "ohe = ohe.fit(df[features_to_ohe])\n",
    "\n",
    "# output of encoder\n",
    "index_name = str(df.index.name)\n",
    "transformed = pd.DataFrame(ohe.transform(df[features_to_ohe]))\n",
    "transformed.columns = ohe.get_feature_names_out(features_to_ohe)\n",
    "\n",
    "# put things back together\n",
    "df = pd.concat([df.reset_index(drop = True),\n",
    "                            transformed.reset_index(drop = True)],\n",
    "                            axis = 1)\n",
    "# delete input columns\n",
    "df.drop(features_to_ohe,\n",
    "                    axis = 1,\n",
    "                    inplace = True)"
   ]
  },
  {
   "cell_type": "markdown",
   "metadata": {},
   "source": [
    "## Step 6 - Modelling"
   ]
  },
  {
   "cell_type": "code",
   "execution_count": 117,
   "metadata": {},
   "outputs": [],
   "source": [
    "df.drop('Id', axis=1,inplace = True)"
   ]
  },
  {
   "cell_type": "code",
   "execution_count": 130,
   "metadata": {},
   "outputs": [],
   "source": [
    "train = df[~df['SalePrice'].isna()].copy()\n",
    "test = df[df['SalePrice'].isna()].copy()\n",
    "\n",
    "# Let's separate the features from the target\n",
    "X = train.drop(['SalePrice'], axis = 1, inplace = False)\n",
    "y = train[\"SalePrice\"]\n",
    "\n",
    "features = X.columns\n",
    "\n",
    "# Let's create a validation set to remove some ovefitting\n",
    "X_train,X_validation,y_train,y_validation = train_test_split(\n",
    "    X,\n",
    "    y,\n",
    "    test_size = 0.2,\n",
    "    random_state = 42,\n",
    "    shuffle = True)"
   ]
  },
  {
   "cell_type": "code",
   "execution_count": 132,
   "metadata": {},
   "outputs": [
    {
     "name": "stdout",
     "output_type": "stream",
     "text": [
      "Fitting 5 folds for each of 100 candidates, totalling 500 fits\n"
     ]
    },
    {
     "data": {
      "text/html": [
       "<style>#sk-container-id-1 {color: black;background-color: white;}#sk-container-id-1 pre{padding: 0;}#sk-container-id-1 div.sk-toggleable {background-color: white;}#sk-container-id-1 label.sk-toggleable__label {cursor: pointer;display: block;width: 100%;margin-bottom: 0;padding: 0.3em;box-sizing: border-box;text-align: center;}#sk-container-id-1 label.sk-toggleable__label-arrow:before {content: \"▸\";float: left;margin-right: 0.25em;color: #696969;}#sk-container-id-1 label.sk-toggleable__label-arrow:hover:before {color: black;}#sk-container-id-1 div.sk-estimator:hover label.sk-toggleable__label-arrow:before {color: black;}#sk-container-id-1 div.sk-toggleable__content {max-height: 0;max-width: 0;overflow: hidden;text-align: left;background-color: #f0f8ff;}#sk-container-id-1 div.sk-toggleable__content pre {margin: 0.2em;color: black;border-radius: 0.25em;background-color: #f0f8ff;}#sk-container-id-1 input.sk-toggleable__control:checked~div.sk-toggleable__content {max-height: 200px;max-width: 100%;overflow: auto;}#sk-container-id-1 input.sk-toggleable__control:checked~label.sk-toggleable__label-arrow:before {content: \"▾\";}#sk-container-id-1 div.sk-estimator input.sk-toggleable__control:checked~label.sk-toggleable__label {background-color: #d4ebff;}#sk-container-id-1 div.sk-label input.sk-toggleable__control:checked~label.sk-toggleable__label {background-color: #d4ebff;}#sk-container-id-1 input.sk-hidden--visually {border: 0;clip: rect(1px 1px 1px 1px);clip: rect(1px, 1px, 1px, 1px);height: 1px;margin: -1px;overflow: hidden;padding: 0;position: absolute;width: 1px;}#sk-container-id-1 div.sk-estimator {font-family: monospace;background-color: #f0f8ff;border: 1px dotted black;border-radius: 0.25em;box-sizing: border-box;margin-bottom: 0.5em;}#sk-container-id-1 div.sk-estimator:hover {background-color: #d4ebff;}#sk-container-id-1 div.sk-parallel-item::after {content: \"\";width: 100%;border-bottom: 1px solid gray;flex-grow: 1;}#sk-container-id-1 div.sk-label:hover label.sk-toggleable__label {background-color: #d4ebff;}#sk-container-id-1 div.sk-serial::before {content: \"\";position: absolute;border-left: 1px solid gray;box-sizing: border-box;top: 0;bottom: 0;left: 50%;z-index: 0;}#sk-container-id-1 div.sk-serial {display: flex;flex-direction: column;align-items: center;background-color: white;padding-right: 0.2em;padding-left: 0.2em;position: relative;}#sk-container-id-1 div.sk-item {position: relative;z-index: 1;}#sk-container-id-1 div.sk-parallel {display: flex;align-items: stretch;justify-content: center;background-color: white;position: relative;}#sk-container-id-1 div.sk-item::before, #sk-container-id-1 div.sk-parallel-item::before {content: \"\";position: absolute;border-left: 1px solid gray;box-sizing: border-box;top: 0;bottom: 0;left: 50%;z-index: -1;}#sk-container-id-1 div.sk-parallel-item {display: flex;flex-direction: column;z-index: 1;position: relative;background-color: white;}#sk-container-id-1 div.sk-parallel-item:first-child::after {align-self: flex-end;width: 50%;}#sk-container-id-1 div.sk-parallel-item:last-child::after {align-self: flex-start;width: 50%;}#sk-container-id-1 div.sk-parallel-item:only-child::after {width: 0;}#sk-container-id-1 div.sk-dashed-wrapped {border: 1px dashed gray;margin: 0 0.4em 0.5em 0.4em;box-sizing: border-box;padding-bottom: 0.4em;background-color: white;}#sk-container-id-1 div.sk-label label {font-family: monospace;font-weight: bold;display: inline-block;line-height: 1.2em;}#sk-container-id-1 div.sk-label-container {text-align: center;}#sk-container-id-1 div.sk-container {/* jupyter's `normalize.less` sets `[hidden] { display: none; }` but bootstrap.min.css set `[hidden] { display: none !important; }` so we also need the `!important` here to be able to override the default hidden behavior on the sphinx rendered scikit-learn.org. See: https://github.com/scikit-learn/scikit-learn/issues/21755 */display: inline-block !important;position: relative;}#sk-container-id-1 div.sk-text-repr-fallback {display: none;}</style><div id=\"sk-container-id-1\" class=\"sk-top-container\"><div class=\"sk-text-repr-fallback\"><pre>GridSearchCV(cv=5,\n",
       "             estimator=XGBRegressor(base_score=None, booster=None,\n",
       "                                    callbacks=None, colsample_bylevel=None,\n",
       "                                    colsample_bynode=None,\n",
       "                                    colsample_bytree=None,\n",
       "                                    early_stopping_rounds=None,\n",
       "                                    enable_categorical=False, eval_metric=None,\n",
       "                                    feature_types=None, gamma=None, gpu_id=None,\n",
       "                                    grow_policy=None, importance_type=None,\n",
       "                                    interaction_constraints=None,\n",
       "                                    learning_rate=None, m...\n",
       "                                    max_cat_threshold=None,\n",
       "                                    max_cat_to_onehot=None, max_delta_step=None,\n",
       "                                    max_depth=None, max_leaves=None,\n",
       "                                    min_child_weight=None, missing=nan,\n",
       "                                    monotone_constraints=None, n_estimators=100,\n",
       "                                    n_jobs=None, num_parallel_tree=None,\n",
       "                                    predictor=None, random_state=None, ...),\n",
       "             n_jobs=-1,\n",
       "             param_grid={&#x27;eta&#x27;: [0.05, 0.1, 0.2, 0.3],\n",
       "                         &#x27;gamma&#x27;: [0, 0.01, 0.1, 0.15, 0.2],\n",
       "                         &#x27;max_depth&#x27;: [3, 4, 5, 6, 7]},\n",
       "             verbose=1)</pre><b>In a Jupyter environment, please rerun this cell to show the HTML representation or trust the notebook. <br />On GitHub, the HTML representation is unable to render, please try loading this page with nbviewer.org.</b></div><div class=\"sk-container\" hidden><div class=\"sk-item sk-dashed-wrapped\"><div class=\"sk-label-container\"><div class=\"sk-label sk-toggleable\"><input class=\"sk-toggleable__control sk-hidden--visually\" id=\"sk-estimator-id-1\" type=\"checkbox\" ><label for=\"sk-estimator-id-1\" class=\"sk-toggleable__label sk-toggleable__label-arrow\">GridSearchCV</label><div class=\"sk-toggleable__content\"><pre>GridSearchCV(cv=5,\n",
       "             estimator=XGBRegressor(base_score=None, booster=None,\n",
       "                                    callbacks=None, colsample_bylevel=None,\n",
       "                                    colsample_bynode=None,\n",
       "                                    colsample_bytree=None,\n",
       "                                    early_stopping_rounds=None,\n",
       "                                    enable_categorical=False, eval_metric=None,\n",
       "                                    feature_types=None, gamma=None, gpu_id=None,\n",
       "                                    grow_policy=None, importance_type=None,\n",
       "                                    interaction_constraints=None,\n",
       "                                    learning_rate=None, m...\n",
       "                                    max_cat_threshold=None,\n",
       "                                    max_cat_to_onehot=None, max_delta_step=None,\n",
       "                                    max_depth=None, max_leaves=None,\n",
       "                                    min_child_weight=None, missing=nan,\n",
       "                                    monotone_constraints=None, n_estimators=100,\n",
       "                                    n_jobs=None, num_parallel_tree=None,\n",
       "                                    predictor=None, random_state=None, ...),\n",
       "             n_jobs=-1,\n",
       "             param_grid={&#x27;eta&#x27;: [0.05, 0.1, 0.2, 0.3],\n",
       "                         &#x27;gamma&#x27;: [0, 0.01, 0.1, 0.15, 0.2],\n",
       "                         &#x27;max_depth&#x27;: [3, 4, 5, 6, 7]},\n",
       "             verbose=1)</pre></div></div></div><div class=\"sk-parallel\"><div class=\"sk-parallel-item\"><div class=\"sk-item\"><div class=\"sk-label-container\"><div class=\"sk-label sk-toggleable\"><input class=\"sk-toggleable__control sk-hidden--visually\" id=\"sk-estimator-id-2\" type=\"checkbox\" ><label for=\"sk-estimator-id-2\" class=\"sk-toggleable__label sk-toggleable__label-arrow\">estimator: XGBRegressor</label><div class=\"sk-toggleable__content\"><pre>XGBRegressor(base_score=None, booster=None, callbacks=None,\n",
       "             colsample_bylevel=None, colsample_bynode=None,\n",
       "             colsample_bytree=None, early_stopping_rounds=None,\n",
       "             enable_categorical=False, eval_metric=None, feature_types=None,\n",
       "             gamma=None, gpu_id=None, grow_policy=None, importance_type=None,\n",
       "             interaction_constraints=None, learning_rate=None, max_bin=None,\n",
       "             max_cat_threshold=None, max_cat_to_onehot=None,\n",
       "             max_delta_step=None, max_depth=None, max_leaves=None,\n",
       "             min_child_weight=None, missing=nan, monotone_constraints=None,\n",
       "             n_estimators=100, n_jobs=None, num_parallel_tree=None,\n",
       "             predictor=None, random_state=None, ...)</pre></div></div></div><div class=\"sk-serial\"><div class=\"sk-item\"><div class=\"sk-estimator sk-toggleable\"><input class=\"sk-toggleable__control sk-hidden--visually\" id=\"sk-estimator-id-3\" type=\"checkbox\" ><label for=\"sk-estimator-id-3\" class=\"sk-toggleable__label sk-toggleable__label-arrow\">XGBRegressor</label><div class=\"sk-toggleable__content\"><pre>XGBRegressor(base_score=None, booster=None, callbacks=None,\n",
       "             colsample_bylevel=None, colsample_bynode=None,\n",
       "             colsample_bytree=None, early_stopping_rounds=None,\n",
       "             enable_categorical=False, eval_metric=None, feature_types=None,\n",
       "             gamma=None, gpu_id=None, grow_policy=None, importance_type=None,\n",
       "             interaction_constraints=None, learning_rate=None, max_bin=None,\n",
       "             max_cat_threshold=None, max_cat_to_onehot=None,\n",
       "             max_delta_step=None, max_depth=None, max_leaves=None,\n",
       "             min_child_weight=None, missing=nan, monotone_constraints=None,\n",
       "             n_estimators=100, n_jobs=None, num_parallel_tree=None,\n",
       "             predictor=None, random_state=None, ...)</pre></div></div></div></div></div></div></div></div></div></div>"
      ],
      "text/plain": [
       "GridSearchCV(cv=5,\n",
       "             estimator=XGBRegressor(base_score=None, booster=None,\n",
       "                                    callbacks=None, colsample_bylevel=None,\n",
       "                                    colsample_bynode=None,\n",
       "                                    colsample_bytree=None,\n",
       "                                    early_stopping_rounds=None,\n",
       "                                    enable_categorical=False, eval_metric=None,\n",
       "                                    feature_types=None, gamma=None, gpu_id=None,\n",
       "                                    grow_policy=None, importance_type=None,\n",
       "                                    interaction_constraints=None,\n",
       "                                    learning_rate=None, m...\n",
       "                                    max_cat_threshold=None,\n",
       "                                    max_cat_to_onehot=None, max_delta_step=None,\n",
       "                                    max_depth=None, max_leaves=None,\n",
       "                                    min_child_weight=None, missing=nan,\n",
       "                                    monotone_constraints=None, n_estimators=100,\n",
       "                                    n_jobs=None, num_parallel_tree=None,\n",
       "                                    predictor=None, random_state=None, ...),\n",
       "             n_jobs=-1,\n",
       "             param_grid={'eta': [0.05, 0.1, 0.2, 0.3],\n",
       "                         'gamma': [0, 0.01, 0.1, 0.15, 0.2],\n",
       "                         'max_depth': [3, 4, 5, 6, 7]},\n",
       "             verbose=1)"
      ]
     },
     "execution_count": 132,
     "metadata": {},
     "output_type": "execute_result"
    }
   ],
   "source": [
    "# init model\n",
    "xgb = XGBRegressor()\n",
    "# set up parameters possibilities\n",
    "params={\"eta\":[0.05,0.1,0.2,0.3],\n",
    "        \"gamma\":[0,0.01,0.1,0.15,0.2],\n",
    "        \"max_depth\":[3,4,5,6,7]\n",
    "       }\n",
    "gbm_model = GridSearchCV(xgb,\n",
    "                    params,\n",
    "                    cv = 5,\n",
    "                    n_jobs = -1,\n",
    "                    verbose = 1)\n",
    "gbm_model.fit(X_train, y_train)\n"
   ]
  },
  {
   "cell_type": "markdown",
   "metadata": {},
   "source": [
    "## Step 7 - Answer the questions\n",
    "Let's answer the questions listed at the beginning of this notebook."
   ]
  },
  {
   "cell_type": "code",
   "execution_count": 134,
   "metadata": {},
   "outputs": [
    {
     "data": {
      "image/png": "[encoded data removed]",
      "text/plain": [
       "<Figure size 432x288 with 1 Axes>"
      ]
     },
     "metadata": {
      "needs_background": "light"
     },
     "output_type": "display_data"
    }
   ],
   "source": [
    "# XGB feature importance plot\n",
    "plot_importance(gbm_model.best_estimator_)\n",
    "X.columns;\n"
   ]
  },
  {
   "cell_type": "markdown",
   "metadata": {},
   "source": [
    "### Question 1: Is having a basement having an impact on the price of a house?"
   ]
  },
  {
   "cell_type": "code",
   "execution_count": null,
   "metadata": {},
   "outputs": [],
   "source": []
  },
  {
   "cell_type": "markdown",
   "metadata": {},
   "source": [
    "### Question 2: Are the new build cheaper than older houses?"
   ]
  },
  {
   "cell_type": "code",
   "execution_count": null,
   "metadata": {},
   "outputs": [],
   "source": []
  },
  {
   "cell_type": "markdown",
   "metadata": {},
   "source": [
    "### Question 3: What are the most important features for our model?"
   ]
  },
  {
   "cell_type": "code",
   "execution_count": null,
   "metadata": {},
   "outputs": [],
   "source": []
  }
 ],
 "metadata": {
  "kernelspec": {
   "display_name": "Python 3.10.8 64-bit (microsoft store)",
   "language": "python",
   "name": "python3"
  },
  "language_info": {
   "codemirror_mode": {
    "name": "ipython",
    "version": 3
   },
   "file_extension": ".py",
   "mimetype": "text/x-python",
   "name": "python",
   "nbconvert_exporter": "python",
   "pygments_lexer": "ipython3",
   "version": "3.10.8"
  },
  "orig_nbformat": 4,
  "vscode": {
   "interpreter": {
    "hash": "c1ced07675a5ff60e936cac850907e96edd570f1074109e90be6aeafa0da62fb"
   }
  }
 },
 "nbformat": 4,
 "nbformat_minor": 2
}
